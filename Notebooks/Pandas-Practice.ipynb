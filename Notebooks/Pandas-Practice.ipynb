{
 "cells": [
  {
   "cell_type": "markdown",
   "metadata": {},
   "source": [
    "## Practice with Pandas\n",
    "\n",
    "Read in the salaries.csv data and answer the following questions:\n",
    "1.  How many entries are there?\n",
    "2.  What variables have missing values?  How many missing values?  Are there any columns that have only missing values?\n",
    "3.  What is the average base pay?\n",
    "4.  What is the highest amount of overtime pay in the dataset?\n",
    "5.  What is the job title of JOSEPH DRISCOLL? (Use all caps)\n",
    "6.  What is the name, job title and total pay of the highest paid person (including benefits)?\n",
    "7.  What is the name, job title and total pay of the lowest paid person (icluding benefits)?  Do you notice anything strange?\n",
    "8.  What is the average base pay of all employees per year?\n",
    "9.  How many unique job titles are there?\n",
    "10.  What are the top 5 most common jobs?\n",
    "11. Find the correlation between salary (including benefits) and the length of the Job Title string.  Do you see anything interesting?\n",
    "12. Make a histograme of Total pay (with benefits)\n",
    "13. Make a density estimation plot of total pay with benefits.\n",
    "14. Make side-by-side boxplots of base pay and benefits\n",
    "15. Make a scatterplot of base pay and benefits"
   ]
  },
  {
   "cell_type": "code",
   "execution_count": 1,
   "metadata": {},
   "outputs": [],
   "source": [
    "import numpy as np\n",
    "import pandas as pd\n",
    "%matplotlib inline"
   ]
  },
  {
   "cell_type": "code",
   "execution_count": null,
   "metadata": {},
   "outputs": [],
   "source": []
  }
 ],
 "metadata": {
  "kernelspec": {
   "display_name": "Python 3",
   "language": "python",
   "name": "python3"
  },
  "language_info": {
   "codemirror_mode": {
    "name": "ipython",
    "version": 3
   },
   "file_extension": ".py",
   "mimetype": "text/x-python",
   "name": "python",
   "nbconvert_exporter": "python",
   "pygments_lexer": "ipython3",
   "version": "3.6.9"
  }
 },
 "nbformat": 4,
 "nbformat_minor": 2
}
